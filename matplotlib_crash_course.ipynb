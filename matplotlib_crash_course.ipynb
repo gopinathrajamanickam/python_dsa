{
 "cells": [
  {
   "cell_type": "markdown",
   "metadata": {},
   "source": [
    "# MatplotLib Crash course"
   ]
  },
  {
   "cell_type": "markdown",
   "metadata": {},
   "source": [
    "Purpose of this notebook is to serve as a refresher of the key concepts that matplotlib library uses"
   ]
  },
  {
   "cell_type": "markdown",
   "metadata": {},
   "source": [
    "**Import the key libraries**"
   ]
  },
  {
   "cell_type": "code",
   "execution_count": 1,
   "metadata": {},
   "outputs": [],
   "source": [
    "import matplotlib.pyplot as plt \n",
    "import numpy as np \n",
    "import pandas as pd \n",
    "\n"
   ]
  },
  {
   "cell_type": "markdown",
   "metadata": {},
   "source": [
    "**Basic Graph**"
   ]
  },
  {
   "cell_type": "code",
   "execution_count": 29,
   "metadata": {},
   "outputs": [
    {
     "data": {
      "image/png": "[encoded data removed]",
      "text/plain": [
       "<Figure size 432x288 with 1 Axes>"
      ]
     },
     "metadata": {
      "needs_background": "light"
     },
     "output_type": "display_data"
    }
   ],
   "source": [
    "x = [1,2,3]\n",
    "y = [2,4,6]\n",
    "plt.plot(x,y)\n",
    "\n",
    "# we can customize the above basic plot to include \n",
    "# Legend denoting meaning of the line \n",
    "# plt.plot(x,y, label='2x', color ='red', linewidth = 3, marker = '*', markersize = 10, \\\n",
    "#          markeredgecolor='blue')\n",
    "# plt.legend()\n",
    "\n",
    "# shorthand notation fmt = [color,marker,line]\n",
    "plt.plot(x,y,'b*--', label='2x')\n",
    "\n",
    "# To add Title to the graph\n",
    "plt.title(\"First Graph\", fontdict={'fontname':'Comic Sans MS', 'fontsize': 20})\n",
    "\n",
    "# To add axis labels\n",
    "plt.xlabel(\"X axis\")\n",
    "plt.ylabel(\"Y axis\")\n",
    "\n",
    "# To avoid decimal values on the x and y ticks \n",
    "plt.xticks([0,1,2,3,4])\n",
    "plt.yticks([0,1,2,3,4,5,6])\n",
    "\n",
    "plt.show()"
   ]
  },
  {
   "cell_type": "code",
   "execution_count": null,
   "metadata": {},
   "outputs": [],
   "source": []
  }
 ],
 "metadata": {
  "kernelspec": {
   "display_name": "data_science",
   "language": "python",
   "name": "python3"
  },
  "language_info": {
   "codemirror_mode": {
    "name": "ipython",
    "version": 3
   },
   "file_extension": ".py",
   "mimetype": "text/x-python",
   "name": "python",
   "nbconvert_exporter": "python",
   "pygments_lexer": "ipython3",
   "version": "3.8.2"
  },
  "orig_nbformat": 4
 },
 "nbformat": 4,
 "nbformat_minor": 2
}
